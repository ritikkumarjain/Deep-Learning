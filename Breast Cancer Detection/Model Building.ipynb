{
 "cells": [
  {
   "cell_type": "code",
   "execution_count": 1,
   "metadata": {
    "_cell_guid": "b1076dfc-b9ad-4769-8c92-a6c4dae69d19",
    "_uuid": "8f2839f25d086af736a60e9eeb907d3b93b6e0e5"
   },
   "outputs": [],
   "source": [
    "# # This Python 3 environment comes with many helpful analytics libraries installed\n",
    "# # It is defined by the kaggle/python Docker image: https://github.com/kaggle/docker-python\n",
    "# # For example, here's several helpful packages to load\n",
    "\n",
    "# import numpy as np # linear algebra\n",
    "# import pandas as pd # data processing, CSV file I/O (e.g. pd.read_csv)\n",
    "\n",
    "# # Input data files are available in the read-only \"../input/\" directory\n",
    "# # For example, running this (by clicking run or pressing Shift+Enter) will list all files under the input directory\n",
    "\n",
    "# import os\n",
    "# for dirname, _, filenames in os.walk('/kaggle/input'):\n",
    "#     for filename in filenames:\n",
    "#         print(os.path.join(dirname, filename))\n",
    "\n",
    "# # You can write up to 20GB to the current directory (/kaggle/working/) that gets preserved as output when you create a version using \"Save & Run All\" \n",
    "# # You can also write temporary files to /kaggle/temp/, but they won't be saved outside of the current session"
   ]
  },
  {
   "cell_type": "markdown",
   "metadata": {},
   "source": [
    "# Data Preparation"
   ]
  },
  {
   "cell_type": "code",
   "execution_count": 2,
   "metadata": {},
   "outputs": [],
   "source": [
    "import numpy as np # linear algebra\n",
    "import pandas as pd # data processing, CSV file I/O (e.g. pd.read_csv)\n",
    "import matplotlib.pyplot as plt\n",
    "import seaborn as sns\n",
    "import os\n",
    "from os import listdir\n",
    "import glob"
   ]
  },
  {
   "cell_type": "code",
   "execution_count": 3,
   "metadata": {},
   "outputs": [
    {
     "name": "stdout",
     "output_type": "stream",
     "text": [
      "280\n"
     ]
    }
   ],
   "source": [
    "base_dir = '../input/breast-histopathology-images/*/'\n",
    "file=os.listdir('../input/breast-histopathology-images')\n",
    "print(len(file))"
   ]
  },
  {
   "cell_type": "code",
   "execution_count": 4,
   "metadata": {},
   "outputs": [
    {
     "data": {
      "text/plain": [
       "['10295', '10304', '12868', '10274', '12818']"
      ]
     },
     "execution_count": 4,
     "metadata": {},
     "output_type": "execute_result"
    }
   ],
   "source": [
    "file[:5]"
   ]
  },
  {
   "cell_type": "code",
   "execution_count": 5,
   "metadata": {},
   "outputs": [
    {
     "name": "stdout",
     "output_type": "stream",
     "text": [
      "Number of the patient : 280\n"
     ]
    }
   ],
   "source": [
    "patient_list = list(glob.glob(base_dir))\n",
    "print('Number of the patient :'+' '+str(len(patient_list)))"
   ]
  },
  {
   "cell_type": "code",
   "execution_count": 6,
   "metadata": {},
   "outputs": [],
   "source": [
    "test=[glob.glob(patient_list[i]+'/*/*') for i in range(0,len(patient_list))]"
   ]
  },
  {
   "cell_type": "code",
   "execution_count": 7,
   "metadata": {},
   "outputs": [
    {
     "data": {
      "text/plain": [
       "<matplotlib.image.AxesImage at 0x7fa2f5f26e50>"
      ]
     },
     "execution_count": 7,
     "metadata": {},
     "output_type": "execute_result"
    },
    {
     "data": {
      "image/png": "[encoded data removed]",
      "text/plain": [
       "<Figure size 432x288 with 1 Axes>"
      ]
     },
     "metadata": {
      "needs_background": "light"
     },
     "output_type": "display_data"
    }
   ],
   "source": [
    "from skimage import io\n",
    "img_sample = io.imread(test[0][0])\n",
    "plt.title('patienID:'\n",
    "          +str(test[0][0].split('/')[3])+'\\n'\n",
    "         'class:'+str(test[0][0].split('/')[4]))\n",
    "plt.imshow(img_sample)"
   ]
  },
  {
   "cell_type": "markdown",
   "metadata": {},
   "source": [
    "# Creating DataFrame"
   ]
  },
  {
   "cell_type": "code",
   "execution_count": 8,
   "metadata": {},
   "outputs": [],
   "source": [
    "patient_ID = [test[i][x].split('/')[3]for i in range(0,len(test))for x in range(0,len(test[i]))]\n",
    "class_test = [test[i][x].split('/')[4]for i in range(0,len(test))for x in range(0 ,len(test[i]))]\n",
    "patient_pathes = [test[i][x]for i in range(0,len(test))for x in range(0,len(test[i]))]"
   ]
  },
  {
   "cell_type": "code",
   "execution_count": 9,
   "metadata": {},
   "outputs": [],
   "source": [
    "d = {'patient_ID':patient_ID,'pathes':patient_pathes,'diagnosis':class_test}\n",
    "\n",
    "import dask.dataframe as dd\n",
    "df = pd.DataFrame(d)"
   ]
  },
  {
   "cell_type": "code",
   "execution_count": 10,
   "metadata": {},
   "outputs": [],
   "source": [
    "# df.to_csv('Breast Cancer dataset.csv',index=False)\n",
    "# df=pd.read_csv('./Breast Cancer dataset.csv',low_memory=False)"
   ]
  },
  {
   "cell_type": "code",
   "execution_count": 11,
   "metadata": {},
   "outputs": [
    {
     "data": {
      "text/plain": [
       "patient_ID    object\n",
       "pathes        object\n",
       "diagnosis     object\n",
       "dtype: object"
      ]
     },
     "execution_count": 11,
     "metadata": {},
     "output_type": "execute_result"
    }
   ],
   "source": [
    "df.dtypes"
   ]
  },
  {
   "cell_type": "code",
   "execution_count": 12,
   "metadata": {},
   "outputs": [],
   "source": [
    "df['diagnosis'] = pd.to_numeric(df['diagnosis'])"
   ]
  },
  {
   "cell_type": "code",
   "execution_count": 13,
   "metadata": {},
   "outputs": [
    {
     "data": {
      "text/html": [
       "<div>\n",
       "<style scoped>\n",
       "    .dataframe tbody tr th:only-of-type {\n",
       "        vertical-align: middle;\n",
       "    }\n",
       "\n",
       "    .dataframe tbody tr th {\n",
       "        vertical-align: top;\n",
       "    }\n",
       "\n",
       "    .dataframe thead th {\n",
       "        text-align: right;\n",
       "    }\n",
       "</style>\n",
       "<table border=\"1\" class=\"dataframe\">\n",
       "  <thead>\n",
       "    <tr style=\"text-align: right;\">\n",
       "      <th></th>\n",
       "      <th>patient_ID</th>\n",
       "      <th>pathes</th>\n",
       "      <th>diagnosis</th>\n",
       "    </tr>\n",
       "  </thead>\n",
       "  <tbody>\n",
       "    <tr>\n",
       "      <th>0</th>\n",
       "      <td>10295</td>\n",
       "      <td>../input/breast-histopathology-images/10295/0/...</td>\n",
       "      <td>0</td>\n",
       "    </tr>\n",
       "    <tr>\n",
       "      <th>1</th>\n",
       "      <td>10295</td>\n",
       "      <td>../input/breast-histopathology-images/10295/0/...</td>\n",
       "      <td>0</td>\n",
       "    </tr>\n",
       "    <tr>\n",
       "      <th>2</th>\n",
       "      <td>10295</td>\n",
       "      <td>../input/breast-histopathology-images/10295/0/...</td>\n",
       "      <td>0</td>\n",
       "    </tr>\n",
       "    <tr>\n",
       "      <th>3</th>\n",
       "      <td>10295</td>\n",
       "      <td>../input/breast-histopathology-images/10295/0/...</td>\n",
       "      <td>0</td>\n",
       "    </tr>\n",
       "    <tr>\n",
       "      <th>4</th>\n",
       "      <td>10295</td>\n",
       "      <td>../input/breast-histopathology-images/10295/0/...</td>\n",
       "      <td>0</td>\n",
       "    </tr>\n",
       "  </tbody>\n",
       "</table>\n",
       "</div>"
      ],
      "text/plain": [
       "  patient_ID                                             pathes  diagnosis\n",
       "0      10295  ../input/breast-histopathology-images/10295/0/...          0\n",
       "1      10295  ../input/breast-histopathology-images/10295/0/...          0\n",
       "2      10295  ../input/breast-histopathology-images/10295/0/...          0\n",
       "3      10295  ../input/breast-histopathology-images/10295/0/...          0\n",
       "4      10295  ../input/breast-histopathology-images/10295/0/...          0"
      ]
     },
     "execution_count": 13,
     "metadata": {},
     "output_type": "execute_result"
    }
   ],
   "source": [
    "df.head()"
   ]
  },
  {
   "cell_type": "code",
   "execution_count": 14,
   "metadata": {},
   "outputs": [],
   "source": [
    "df_new = df.iloc[:8000,:]"
   ]
  },
  {
   "cell_type": "code",
   "execution_count": 15,
   "metadata": {},
   "outputs": [
    {
     "name": "stderr",
     "output_type": "stream",
     "text": [
      "/opt/conda/lib/python3.7/site-packages/ipykernel_launcher.py:2: SettingWithCopyWarning: \n",
      "A value is trying to be set on a copy of a slice from a DataFrame.\n",
      "Try using .loc[row_indexer,col_indexer] = value instead\n",
      "\n",
      "See the caveats in the documentation: https://pandas.pydata.org/pandas-docs/stable/user_guide/indexing.html#returning-a-view-versus-a-copy\n",
      "  \n"
     ]
    }
   ],
   "source": [
    "from PIL.Image import open\n",
    "df_new['pixels'] =  df_new['pathes'].map(lambda x:np.asarray(open(x).resize((128,128))))"
   ]
  },
  {
   "cell_type": "markdown",
   "metadata": {},
   "source": [
    "# Preprocessing DataFrame"
   ]
  },
  {
   "cell_type": "code",
   "execution_count": 16,
   "metadata": {},
   "outputs": [],
   "source": [
    "X = df_new['pixels']\n",
    "y =  np.array(df_new['diagnosis'])"
   ]
  },
  {
   "cell_type": "code",
   "execution_count": 17,
   "metadata": {},
   "outputs": [],
   "source": [
    "from sklearn.model_selection import train_test_split\n",
    "X_train,X_test,y_train,y_test = train_test_split(X,y,test_size=0.2,random_state=0)"
   ]
  },
  {
   "cell_type": "code",
   "execution_count": 18,
   "metadata": {},
   "outputs": [
    {
     "data": {
      "text/plain": [
       "((6400,), (1600,), (6400,), (1600,))"
      ]
     },
     "execution_count": 18,
     "metadata": {},
     "output_type": "execute_result"
    }
   ],
   "source": [
    "X_train.shape,X_test.shape,y_train.shape,y_test.shape"
   ]
  },
  {
   "cell_type": "code",
   "execution_count": 19,
   "metadata": {},
   "outputs": [
    {
     "name": "stdout",
     "output_type": "stream",
     "text": [
      "(6400, 128, 128, 3)\n"
     ]
    }
   ],
   "source": [
    "from keras.preprocessing import image\n",
    "\n",
    "train_img = []\n",
    "for i in range (0,len(X_train)):\n",
    "    brain_img =np.array(X_train)[i]\n",
    "    img_arr = image.img_to_array(brain_img).astype(np.float32)\n",
    "    train_img.append(img_arr/255)\n",
    "    #train_img.append(preprocess_input(img_arr))\n",
    "X_scaled = np.array(train_img)\n",
    "\n",
    "print(X_scaled.shape)\n"
   ]
  },
  {
   "cell_type": "code",
   "execution_count": 20,
   "metadata": {},
   "outputs": [],
   "source": [
    "X_train_shape = X_scaled.shape[1]*X_scaled.shape[2]*X_scaled.shape[3]\n",
    "X_Flatten = X_scaled.reshape(X_scaled.shape[0],X_train_shape)"
   ]
  },
  {
   "cell_type": "markdown",
   "metadata": {},
   "source": [
    "## Since imbalance class therefore sampling"
   ]
  },
  {
   "cell_type": "code",
   "execution_count": 21,
   "metadata": {},
   "outputs": [],
   "source": [
    "from imblearn.over_sampling import SMOTE\n",
    "sm = SMOTE(random_state=10)\n",
    "X_sm,y_sm = sm.fit_resample(X_Flatten,y_train)"
   ]
  },
  {
   "cell_type": "code",
   "execution_count": 22,
   "metadata": {},
   "outputs": [
    {
     "name": "stderr",
     "output_type": "stream",
     "text": [
      "/opt/conda/lib/python3.7/site-packages/seaborn/_decorators.py:43: FutureWarning: Pass the following variable as a keyword arg: x. From version 0.12, the only valid positional argument will be `data`, and passing other arguments without an explicit keyword will result in an error or misinterpretation.\n",
      "  FutureWarning\n"
     ]
    },
    {
     "data": {
      "text/plain": [
       "<AxesSubplot:ylabel='count'>"
      ]
     },
     "execution_count": 22,
     "metadata": {},
     "output_type": "execute_result"
    },
    {
     "data": {
      "image/png": "[encoded data removed]",
      "text/plain": [
       "<Figure size 432x288 with 1 Axes>"
      ]
     },
     "metadata": {
      "needs_background": "light"
     },
     "output_type": "display_data"
    }
   ],
   "source": [
    "sns.countplot(y_sm )"
   ]
  },
  {
   "cell_type": "code",
   "execution_count": 23,
   "metadata": {},
   "outputs": [
    {
     "name": "stdout",
     "output_type": "stream",
     "text": [
      "(9162, 128, 128, 3)\n",
      "(9162,)\n"
     ]
    }
   ],
   "source": [
    "row,col,channel = 128 ,128 , 3 \n",
    "X_sm_reshaped = X_sm.reshape(len(X_sm),row,col,channel)\n",
    "\n",
    "print(X_sm_reshaped.shape)\n",
    "print(y_sm.shape)"
   ]
  },
  {
   "cell_type": "code",
   "execution_count": 27,
   "metadata": {},
   "outputs": [
    {
     "name": "stdout",
     "output_type": "stream",
     "text": [
      "(1600, 128, 128, 3)\n"
     ]
    }
   ],
   "source": [
    "img_test = []\n",
    "for i in range (0,len(X_test)):\n",
    "    brain_img_test =np.array(X_test)[i]\n",
    "    img_test_arr = image.img_to_array(brain_img_test).astype(np.float32)\n",
    "    img_test.append(img_test_arr/255)\n",
    "X_scaled_test = np.array(img_test)\n",
    "\n",
    "print(X_scaled_test.shape)"
   ]
  },
  {
   "cell_type": "markdown",
   "metadata": {},
   "source": [
    "# Checking different architectures - ANN, InceptionV3, ResNet152V2, MobileNetV2"
   ]
  },
  {
   "cell_type": "code",
   "execution_count": 24,
   "metadata": {},
   "outputs": [
    {
     "name": "stdout",
     "output_type": "stream",
     "text": [
      "Model: \"sequential\"\n",
      "_________________________________________________________________\n",
      "Layer (type)                 Output Shape              Param #   \n",
      "=================================================================\n",
      "conv2d (Conv2D)              (None, 126, 126, 32)      896       \n",
      "_________________________________________________________________\n",
      "conv2d_1 (Conv2D)            (None, 124, 124, 64)      18496     \n",
      "_________________________________________________________________\n",
      "max_pooling2d (MaxPooling2D) (None, 62, 62, 64)        0         \n",
      "_________________________________________________________________\n",
      "dropout (Dropout)            (None, 62, 62, 64)        0         \n",
      "_________________________________________________________________\n",
      "flatten (Flatten)            (None, 246016)            0         \n",
      "_________________________________________________________________\n",
      "dense (Dense)                (None, 512)               125960704 \n",
      "_________________________________________________________________\n",
      "dropout_1 (Dropout)          (None, 512)               0         \n",
      "_________________________________________________________________\n",
      "dense_1 (Dense)              (None, 1)                 513       \n",
      "=================================================================\n",
      "Total params: 125,980,609\n",
      "Trainable params: 125,980,609\n",
      "Non-trainable params: 0\n",
      "_________________________________________________________________\n"
     ]
    }
   ],
   "source": [
    "from tensorflow import keras\n",
    "from tensorflow.keras import layers\n",
    "\n",
    "\n",
    "\n",
    "model1 = keras.Sequential()\n",
    "model1.add(layers.Conv2D(32, kernel_size=(3, 3),activation='relu',input_shape=(128,128,3)))\n",
    "model1.add(layers.Conv2D(64, (3, 3), activation='relu'))\n",
    "model1.add(layers.MaxPooling2D(pool_size=(2, 2)))\n",
    "model1.add(layers.Dropout(0.25))\n",
    "model1.add(layers.Flatten())\n",
    "model1.add(layers.Dense(512, activation='relu'))\n",
    "model1.add(layers.Dropout(0.5))\n",
    "model1.add(layers.Dense(1, activation='sigmoid'))\n",
    "\n",
    "model1.summary()"
   ]
  },
  {
   "cell_type": "code",
   "execution_count": 25,
   "metadata": {},
   "outputs": [
    {
     "name": "stdout",
     "output_type": "stream",
     "text": [
      "Epoch 1/20\n",
      "230/230 [==============================] - 32s 116ms/step - loss: 0.6615 - accuracy: 0.6277 - val_loss: 0.8728 - val_accuracy: 0.1500\n",
      "Epoch 2/20\n",
      "230/230 [==============================] - 26s 111ms/step - loss: 0.6213 - accuracy: 0.6399 - val_loss: 0.1063 - val_accuracy: 1.0000\n",
      "Epoch 3/20\n",
      "230/230 [==============================] - 26s 111ms/step - loss: 0.6387 - accuracy: 0.6480 - val_loss: 4.2459 - val_accuracy: 0.0000e+00\n",
      "Epoch 4/20\n",
      "230/230 [==============================] - 26s 111ms/step - loss: 0.5989 - accuracy: 0.7112 - val_loss: 3.0814 - val_accuracy: 0.0000e+00\n",
      "Epoch 5/20\n",
      "230/230 [==============================] - 26s 111ms/step - loss: 0.5404 - accuracy: 0.7413 - val_loss: 1.2281 - val_accuracy: 0.2226\n",
      "Epoch 6/20\n",
      "230/230 [==============================] - 26s 111ms/step - loss: 0.4904 - accuracy: 0.7727 - val_loss: 6.2790 - val_accuracy: 0.0000e+00\n",
      "Epoch 7/20\n",
      "230/230 [==============================] - 25s 111ms/step - loss: 0.6256 - accuracy: 0.7141 - val_loss: 1.0210 - val_accuracy: 0.1380\n",
      "Epoch 8/20\n",
      "230/230 [==============================] - 26s 111ms/step - loss: 0.5744 - accuracy: 0.6990 - val_loss: 0.1247 - val_accuracy: 0.9940\n",
      "Epoch 9/20\n",
      "230/230 [==============================] - 25s 111ms/step - loss: 0.5019 - accuracy: 0.7632 - val_loss: 2.4940 - val_accuracy: 0.0426\n",
      "Epoch 10/20\n",
      "230/230 [==============================] - 25s 111ms/step - loss: 0.4717 - accuracy: 0.7850 - val_loss: 1.3395 - val_accuracy: 0.3562\n",
      "Epoch 11/20\n",
      "230/230 [==============================] - 25s 111ms/step - loss: 0.4488 - accuracy: 0.7930 - val_loss: 0.1015 - val_accuracy: 1.0000\n",
      "Epoch 12/20\n",
      "230/230 [==============================] - 26s 111ms/step - loss: 0.5940 - accuracy: 0.7357 - val_loss: 0.2816 - val_accuracy: 0.9056\n",
      "Epoch 13/20\n",
      "230/230 [==============================] - 26s 111ms/step - loss: 0.4444 - accuracy: 0.8032 - val_loss: 0.1999 - val_accuracy: 0.9629\n",
      "Epoch 14/20\n",
      "230/230 [==============================] - 25s 111ms/step - loss: 0.4231 - accuracy: 0.8065 - val_loss: 0.2555 - val_accuracy: 0.8898\n",
      "Epoch 15/20\n",
      "230/230 [==============================] - 26s 111ms/step - loss: 0.4028 - accuracy: 0.8186 - val_loss: 0.6802 - val_accuracy: 0.6721\n",
      "Epoch 16/20\n",
      "230/230 [==============================] - 26s 111ms/step - loss: 0.3718 - accuracy: 0.8315 - val_loss: 0.4012 - val_accuracy: 0.8009\n",
      "Epoch 17/20\n",
      "230/230 [==============================] - 26s 111ms/step - loss: 0.3553 - accuracy: 0.8422 - val_loss: 0.4094 - val_accuracy: 0.7878\n",
      "Epoch 18/20\n",
      "230/230 [==============================] - 25s 111ms/step - loss: 0.3540 - accuracy: 0.8407 - val_loss: 1.0266 - val_accuracy: 0.4861\n",
      "Epoch 19/20\n",
      "230/230 [==============================] - 25s 111ms/step - loss: 0.3455 - accuracy: 0.8479 - val_loss: 0.2935 - val_accuracy: 0.8538\n",
      "Epoch 20/20\n",
      "230/230 [==============================] - 25s 111ms/step - loss: 0.3540 - accuracy: 0.8464 - val_loss: 0.5247 - val_accuracy: 0.7567\n"
     ]
    }
   ],
   "source": [
    "model1.compile(optimizer='sgd',\n",
    "             loss=keras.losses.binary_crossentropy,\n",
    "             metrics=['accuracy'])\n",
    "\n",
    "\n",
    "history1 = model1.fit(X_sm_reshaped,y_sm\n",
    "          ,epochs=20,verbose=1,validation_split=0.2)"
   ]
  },
  {
   "cell_type": "code",
   "execution_count": 28,
   "metadata": {},
   "outputs": [
    {
     "name": "stdout",
     "output_type": "stream",
     "text": [
      "50/50 [==============================] - 4s 76ms/step - loss: 0.3608 - accuracy: 0.8356\n",
      "The loss of the evaluation : 36.08427941799164\n",
      "The accuracy of the evaluation : 83.56249928474426\n"
     ]
    }
   ],
   "source": [
    "eval_score1 = model1.evaluate(X_scaled_test,y_test)\n",
    "print('The loss of the evaluation :'+' '+str(eval_score1[0]*100))\n",
    "print('The accuracy of the evaluation :'+' '+str(eval_score1[1]*100))"
   ]
  },
  {
   "cell_type": "code",
   "execution_count": 29,
   "metadata": {},
   "outputs": [
    {
     "name": "stdout",
     "output_type": "stream",
     "text": [
      "Model: \"sequential_1\"\n",
      "_________________________________________________________________\n",
      "Layer (type)                 Output Shape              Param #   \n",
      "=================================================================\n",
      "inception_v3 (Functional)    (None, 2, 2, 2048)        21802784  \n",
      "_________________________________________________________________\n",
      "global_average_pooling2d (Gl (None, 2048)              0         \n",
      "_________________________________________________________________\n",
      "preds (Dense)                (None, 1)                 2049      \n",
      "=================================================================\n",
      "Total params: 21,804,833\n",
      "Trainable params: 2,049\n",
      "Non-trainable params: 21,802,784\n",
      "_________________________________________________________________\n"
     ]
    }
   ],
   "source": [
    "from keras.applications import InceptionV3\n",
    "num_classes = 1\n",
    "model2 = keras.Sequential([\n",
    "     InceptionV3(input_shape=(128,128,3),weights='imagenet',include_top=False), \n",
    "     layers.GlobalAveragePooling2D(),\n",
    "     layers.Dense(num_classes, activation='sigmoid',name='preds'),\n",
    "])\n",
    "model2.layers[0].trainable= False\n",
    "\n",
    "model2.summary()"
   ]
  },
  {
   "cell_type": "code",
   "execution_count": 30,
   "metadata": {},
   "outputs": [
    {
     "name": "stdout",
     "output_type": "stream",
     "text": [
      "Epoch 1/20\n",
      "230/230 [==============================] - 14s 42ms/step - loss: 0.6794 - accuracy: 0.7101 - val_loss: 2.0448 - val_accuracy: 0.2526\n",
      "Epoch 2/20\n",
      "230/230 [==============================] - 8s 34ms/step - loss: 0.5466 - accuracy: 0.7758 - val_loss: 1.6450 - val_accuracy: 0.3742\n",
      "Epoch 3/20\n",
      "230/230 [==============================] - 7s 32ms/step - loss: 0.4855 - accuracy: 0.8059 - val_loss: 2.1638e-05 - val_accuracy: 1.0000\n",
      "Epoch 4/20\n",
      "230/230 [==============================] - 8s 33ms/step - loss: 0.9223 - accuracy: 0.7833 - val_loss: 1.3364e-04 - val_accuracy: 1.0000\n",
      "Epoch 5/20\n",
      "230/230 [==============================] - 7s 32ms/step - loss: 0.6476 - accuracy: 0.8035 - val_loss: 0.7845 - val_accuracy: 0.6612\n",
      "Epoch 6/20\n",
      "230/230 [==============================] - 8s 33ms/step - loss: 0.4035 - accuracy: 0.8331 - val_loss: 0.7065 - val_accuracy: 0.6869\n",
      "Epoch 7/20\n",
      "230/230 [==============================] - 8s 33ms/step - loss: 0.3815 - accuracy: 0.8390 - val_loss: 0.9300 - val_accuracy: 0.6088\n",
      "Epoch 8/20\n",
      "230/230 [==============================] - 7s 33ms/step - loss: 0.4277 - accuracy: 0.8262 - val_loss: 2.2482e-04 - val_accuracy: 1.0000\n",
      "Epoch 9/20\n",
      "230/230 [==============================] - 7s 32ms/step - loss: 0.5712 - accuracy: 0.8164 - val_loss: 0.1650 - val_accuracy: 0.9449\n",
      "Epoch 10/20\n",
      "230/230 [==============================] - 8s 33ms/step - loss: 0.3603 - accuracy: 0.8427 - val_loss: 0.4082 - val_accuracy: 0.8178\n",
      "Epoch 11/20\n",
      "230/230 [==============================] - 7s 33ms/step - loss: 0.3574 - accuracy: 0.8465 - val_loss: 0.0083 - val_accuracy: 0.9989\n",
      "Epoch 12/20\n",
      "230/230 [==============================] - 8s 33ms/step - loss: 0.3958 - accuracy: 0.8472 - val_loss: 0.3381 - val_accuracy: 0.8549\n",
      "Epoch 13/20\n",
      "230/230 [==============================] - 7s 32ms/step - loss: 0.3287 - accuracy: 0.8548 - val_loss: 4.6110 - val_accuracy: 0.0333\n",
      "Epoch 14/20\n",
      "230/230 [==============================] - 7s 33ms/step - loss: 0.3878 - accuracy: 0.8417 - val_loss: 0.3875 - val_accuracy: 0.8331\n",
      "Epoch 15/20\n",
      "230/230 [==============================] - 7s 33ms/step - loss: 0.3523 - accuracy: 0.8490 - val_loss: 0.0012 - val_accuracy: 1.0000\n",
      "Epoch 16/20\n",
      "230/230 [==============================] - 8s 33ms/step - loss: 0.4267 - accuracy: 0.8475 - val_loss: 0.0018 - val_accuracy: 1.0000\n",
      "Epoch 17/20\n",
      "230/230 [==============================] - 7s 32ms/step - loss: 0.4915 - accuracy: 0.8374 - val_loss: 1.6756 - val_accuracy: 0.3933\n",
      "Epoch 18/20\n",
      "230/230 [==============================] - 8s 33ms/step - loss: 0.3318 - accuracy: 0.8571 - val_loss: 0.0085 - val_accuracy: 0.9995\n",
      "Epoch 19/20\n",
      "230/230 [==============================] - 7s 32ms/step - loss: 0.3695 - accuracy: 0.8521 - val_loss: 1.0079 - val_accuracy: 0.5734\n",
      "Epoch 20/20\n",
      "230/230 [==============================] - 8s 33ms/step - loss: 0.3099 - accuracy: 0.8651 - val_loss: 0.0686 - val_accuracy: 0.9815\n"
     ]
    }
   ],
   "source": [
    "model2.compile(optimizer='sgd',\n",
    "             loss=keras.losses.binary_crossentropy,\n",
    "             metrics=['accuracy'])\n",
    "\n",
    "\n",
    "history2= model2.fit(X_sm_reshaped,y_sm\n",
    "          ,epochs=20,verbose=1,validation_split=0.2)"
   ]
  },
  {
   "cell_type": "code",
   "execution_count": 31,
   "metadata": {},
   "outputs": [
    {
     "name": "stdout",
     "output_type": "stream",
     "text": [
      "50/50 [==============================] - 3s 25ms/step - loss: 0.8813 - accuracy: 0.6762\n",
      "The loss of the evaluation : 88.13106417655945\n",
      "The accuracy of the evaluation : 67.62499809265137\n"
     ]
    }
   ],
   "source": [
    "eval_score2 = model2.evaluate(X_scaled_test,y_test)\n",
    "print('The loss of the evaluation :'+' '+str(eval_score2[0]*100))\n",
    "print('The accuracy of the evaluation :'+' '+str(eval_score2[1]*100))"
   ]
  },
  {
   "cell_type": "code",
   "execution_count": 32,
   "metadata": {},
   "outputs": [
    {
     "name": "stdout",
     "output_type": "stream",
     "text": [
      "Model: \"sequential_2\"\n",
      "_________________________________________________________________\n",
      "Layer (type)                 Output Shape              Param #   \n",
      "=================================================================\n",
      "resnet152v2 (Functional)     (None, 4, 4, 2048)        58331648  \n",
      "_________________________________________________________________\n",
      "global_average_pooling2d_1 ( (None, 2048)              0         \n",
      "_________________________________________________________________\n",
      "preds (Dense)                (None, 1)                 2049      \n",
      "=================================================================\n",
      "Total params: 58,333,697\n",
      "Trainable params: 2,049\n",
      "Non-trainable params: 58,331,648\n",
      "_________________________________________________________________\n"
     ]
    }
   ],
   "source": [
    "from keras.applications import ResNet152V2\n",
    "num_classes = 1\n",
    "model3 = keras.Sequential([\n",
    "     ResNet152V2(input_shape=(128,128,3),weights='imagenet',include_top=False), \n",
    "     layers.GlobalAveragePooling2D(),\n",
    "     layers.Dense(num_classes, activation='sigmoid',name='preds'),\n",
    "])\n",
    "model3.layers[0].trainable= False\n",
    "\n",
    "model3.summary()"
   ]
  },
  {
   "cell_type": "code",
   "execution_count": 33,
   "metadata": {},
   "outputs": [
    {
     "name": "stdout",
     "output_type": "stream",
     "text": [
      "Epoch 1/20\n",
      "230/230 [==============================] - 29s 87ms/step - loss: 0.5596 - accuracy: 0.7142 - val_loss: 0.6631 - val_accuracy: 0.6634\n",
      "Epoch 2/20\n",
      "230/230 [==============================] - 17s 74ms/step - loss: 0.4753 - accuracy: 0.7935 - val_loss: 0.6080 - val_accuracy: 0.7147\n",
      "Epoch 3/20\n",
      "230/230 [==============================] - 17s 73ms/step - loss: 0.4454 - accuracy: 0.8034 - val_loss: 0.4806 - val_accuracy: 0.8047\n",
      "Epoch 4/20\n",
      "230/230 [==============================] - 17s 74ms/step - loss: 0.4249 - accuracy: 0.8185 - val_loss: 0.4597 - val_accuracy: 0.8123\n",
      "Epoch 5/20\n",
      "230/230 [==============================] - 17s 73ms/step - loss: 0.4276 - accuracy: 0.8087 - val_loss: 0.4566 - val_accuracy: 0.8107\n",
      "Epoch 6/20\n",
      "230/230 [==============================] - 17s 74ms/step - loss: 0.4113 - accuracy: 0.8232 - val_loss: 0.6768 - val_accuracy: 0.6678\n",
      "Epoch 7/20\n",
      "230/230 [==============================] - 17s 73ms/step - loss: 0.4101 - accuracy: 0.8167 - val_loss: 0.4382 - val_accuracy: 0.8200\n",
      "Epoch 8/20\n",
      "230/230 [==============================] - 17s 74ms/step - loss: 0.4043 - accuracy: 0.8145 - val_loss: 0.5963 - val_accuracy: 0.7169\n",
      "Epoch 9/20\n",
      "230/230 [==============================] - 17s 74ms/step - loss: 0.4041 - accuracy: 0.8216 - val_loss: 0.4355 - val_accuracy: 0.8249\n",
      "Epoch 10/20\n",
      "230/230 [==============================] - 17s 74ms/step - loss: 0.3931 - accuracy: 0.8242 - val_loss: 0.2892 - val_accuracy: 0.9040\n",
      "Epoch 11/20\n",
      "230/230 [==============================] - 17s 73ms/step - loss: 0.4066 - accuracy: 0.8170 - val_loss: 0.5641 - val_accuracy: 0.7436\n",
      "Epoch 12/20\n",
      "230/230 [==============================] - 17s 74ms/step - loss: 0.3832 - accuracy: 0.8361 - val_loss: 0.4719 - val_accuracy: 0.7992\n",
      "Epoch 13/20\n",
      "230/230 [==============================] - 17s 74ms/step - loss: 0.3771 - accuracy: 0.8374 - val_loss: 0.5340 - val_accuracy: 0.7616\n",
      "Epoch 14/20\n",
      "230/230 [==============================] - 17s 73ms/step - loss: 0.3818 - accuracy: 0.8358 - val_loss: 0.5112 - val_accuracy: 0.7714\n",
      "Epoch 15/20\n",
      "230/230 [==============================] - 17s 74ms/step - loss: 0.3776 - accuracy: 0.8354 - val_loss: 0.5391 - val_accuracy: 0.7610\n",
      "Epoch 16/20\n",
      "230/230 [==============================] - 17s 73ms/step - loss: 0.3719 - accuracy: 0.8413 - val_loss: 0.5320 - val_accuracy: 0.7600\n",
      "Epoch 17/20\n",
      "230/230 [==============================] - 17s 74ms/step - loss: 0.3810 - accuracy: 0.8357 - val_loss: 0.5054 - val_accuracy: 0.7758\n",
      "Epoch 18/20\n",
      "230/230 [==============================] - 17s 73ms/step - loss: 0.3712 - accuracy: 0.8481 - val_loss: 0.6228 - val_accuracy: 0.7049\n",
      "Epoch 19/20\n",
      "230/230 [==============================] - 17s 74ms/step - loss: 0.3756 - accuracy: 0.8419 - val_loss: 0.5122 - val_accuracy: 0.7720\n",
      "Epoch 20/20\n",
      "230/230 [==============================] - 17s 73ms/step - loss: 0.3508 - accuracy: 0.8580 - val_loss: 0.4602 - val_accuracy: 0.8014\n"
     ]
    }
   ],
   "source": [
    "model3.compile(optimizer='sgd',\n",
    "             loss=keras.losses.binary_crossentropy,\n",
    "             metrics=['accuracy'])\n",
    "\n",
    "\n",
    "history3 = model3.fit(X_sm_reshaped,y_sm\n",
    "          ,epochs=20,verbose=1,validation_split=0.2)"
   ]
  },
  {
   "cell_type": "code",
   "execution_count": 34,
   "metadata": {},
   "outputs": [
    {
     "name": "stdout",
     "output_type": "stream",
     "text": [
      "50/50 [==============================] - 6s 58ms/step - loss: 0.4084 - accuracy: 0.8281\n",
      "The loss of the evaluation : 40.839290618896484\n",
      "The accuracy of the evaluation : 82.8125\n"
     ]
    }
   ],
   "source": [
    "eval_score3 = model3.evaluate(X_scaled_test,y_test)\n",
    "print('The loss of the evaluation :'+' '+str(eval_score3[0]*100))\n",
    "print('The accuracy of the evaluation :'+' '+str(eval_score3[1]*100))"
   ]
  },
  {
   "cell_type": "code",
   "execution_count": 49,
   "metadata": {},
   "outputs": [
    {
     "name": "stdout",
     "output_type": "stream",
     "text": [
      "Model: \"sequential_4\"\n",
      "_________________________________________________________________\n",
      "Layer (type)                 Output Shape              Param #   \n",
      "=================================================================\n",
      "mobilenetv2_1.00_128 (Functi (None, 4, 4, 1280)        2257984   \n",
      "_________________________________________________________________\n",
      "global_average_pooling2d_3 ( (None, 1280)              0         \n",
      "_________________________________________________________________\n",
      "preds (Dense)                (None, 1)                 1281      \n",
      "=================================================================\n",
      "Total params: 2,259,265\n",
      "Trainable params: 1,281\n",
      "Non-trainable params: 2,257,984\n",
      "_________________________________________________________________\n"
     ]
    }
   ],
   "source": [
    "from keras.applications import MobileNetV2\n",
    "num_classes = 1\n",
    "model4 = keras.Sequential([\n",
    "     MobileNetV2(input_shape=(128,128,3),weights=\"imagenet\",include_top=False), \n",
    "     layers.GlobalAveragePooling2D(),\n",
    "     layers.Dense(num_classes, activation='sigmoid',name='preds'),\n",
    "])\n",
    "model4.layers[0].trainable= False\n",
    "# show model summary\n",
    "model4.summary()"
   ]
  },
  {
   "cell_type": "code",
   "execution_count": 50,
   "metadata": {},
   "outputs": [
    {
     "name": "stdout",
     "output_type": "stream",
     "text": [
      "Epoch 1/20\n",
      "230/230 [==============================] - 7s 22ms/step - loss: 0.5542 - accuracy: 0.7134 - val_loss: 0.0264 - val_accuracy: 0.9989\n",
      "Epoch 2/20\n",
      "230/230 [==============================] - 4s 17ms/step - loss: 0.4266 - accuracy: 0.8068 - val_loss: 0.9232 - val_accuracy: 0.5155\n",
      "Epoch 3/20\n",
      "230/230 [==============================] - 4s 17ms/step - loss: 0.3874 - accuracy: 0.8340 - val_loss: 0.3660 - val_accuracy: 0.8472\n",
      "Epoch 4/20\n",
      "230/230 [==============================] - 4s 17ms/step - loss: 0.3619 - accuracy: 0.8451 - val_loss: 0.4726 - val_accuracy: 0.7807\n",
      "Epoch 5/20\n",
      "230/230 [==============================] - 4s 17ms/step - loss: 0.3432 - accuracy: 0.8485 - val_loss: 3.2923 - val_accuracy: 0.0082\n",
      "Epoch 6/20\n",
      "230/230 [==============================] - 4s 17ms/step - loss: 0.3860 - accuracy: 0.8380 - val_loss: 0.2498 - val_accuracy: 0.9083\n",
      "Epoch 7/20\n",
      "230/230 [==============================] - 4s 17ms/step - loss: 0.3361 - accuracy: 0.8578 - val_loss: 0.3902 - val_accuracy: 0.8314\n",
      "Epoch 8/20\n",
      "230/230 [==============================] - 4s 17ms/step - loss: 0.3303 - accuracy: 0.8662 - val_loss: 0.2024 - val_accuracy: 0.9242\n",
      "Epoch 9/20\n",
      "230/230 [==============================] - 4s 17ms/step - loss: 0.3179 - accuracy: 0.8646 - val_loss: 0.4883 - val_accuracy: 0.7807\n",
      "Epoch 10/20\n",
      "230/230 [==============================] - 4s 18ms/step - loss: 0.3204 - accuracy: 0.8601 - val_loss: 0.3528 - val_accuracy: 0.8494\n",
      "Epoch 11/20\n",
      "230/230 [==============================] - 4s 18ms/step - loss: 0.3171 - accuracy: 0.8692 - val_loss: 0.1420 - val_accuracy: 0.9585\n",
      "Epoch 12/20\n",
      "230/230 [==============================] - 4s 18ms/step - loss: 0.3094 - accuracy: 0.8695 - val_loss: 1.0691 - val_accuracy: 0.5041\n",
      "Epoch 13/20\n",
      "230/230 [==============================] - 4s 17ms/step - loss: 0.3041 - accuracy: 0.8750 - val_loss: 0.9325 - val_accuracy: 0.5646\n",
      "Epoch 14/20\n",
      "230/230 [==============================] - 4s 18ms/step - loss: 0.3103 - accuracy: 0.8682 - val_loss: 0.5240 - val_accuracy: 0.7649\n",
      "Epoch 15/20\n",
      "230/230 [==============================] - 4s 17ms/step - loss: 0.3053 - accuracy: 0.8756 - val_loss: 0.6844 - val_accuracy: 0.6738\n",
      "Epoch 16/20\n",
      "230/230 [==============================] - 4s 17ms/step - loss: 0.3052 - accuracy: 0.8754 - val_loss: 0.3225 - val_accuracy: 0.8625\n",
      "Epoch 17/20\n",
      "230/230 [==============================] - 4s 17ms/step - loss: 0.2922 - accuracy: 0.8756 - val_loss: 0.1951 - val_accuracy: 0.9307\n",
      "Epoch 18/20\n",
      "230/230 [==============================] - 4s 17ms/step - loss: 0.2970 - accuracy: 0.8776 - val_loss: 0.3669 - val_accuracy: 0.8445\n",
      "Epoch 19/20\n",
      "230/230 [==============================] - 4s 17ms/step - loss: 0.2925 - accuracy: 0.8818 - val_loss: 0.3833 - val_accuracy: 0.8363\n",
      "Epoch 20/20\n",
      "230/230 [==============================] - 4s 18ms/step - loss: 0.2923 - accuracy: 0.8796 - val_loss: 0.2511 - val_accuracy: 0.8985\n"
     ]
    }
   ],
   "source": [
    "model4.compile(optimizer='sgd',\n",
    "             loss=keras.losses.binary_crossentropy,\n",
    "             metrics=['accuracy'])\n",
    "\n",
    "\n",
    "history4 = model4.fit(X_sm_reshaped,y_sm\n",
    "          ,epochs=20,verbose=1,validation_split=0.2)"
   ]
  },
  {
   "cell_type": "code",
   "execution_count": 51,
   "metadata": {},
   "outputs": [
    {
     "name": "stdout",
     "output_type": "stream",
     "text": [
      "50/50 [==============================] - 2s 13ms/step - loss: 0.3411 - accuracy: 0.8600\n",
      "The loss of the evaluation : 34.10859405994415\n",
      "The accuracy of the evaluation : 86.00000143051147\n"
     ]
    }
   ],
   "source": [
    "eval_score4 = model4.evaluate(X_scaled_test,y_test)\n",
    "print('The loss of the evaluation :'+' '+str(eval_score4[0]*100))\n",
    "print('The accuracy of the evaluation :'+' '+str(eval_score4[1]*100))"
   ]
  },
  {
   "cell_type": "markdown",
   "metadata": {},
   "source": [
    "# Overfitting on all above architectures"
   ]
  },
  {
   "cell_type": "raw",
   "metadata": {},
   "source": [
    "Even With all Overfitting the MobileNetV2>>ANN>>ResNet151V2>>InceptionV3 seems to perform well.So making prediction on MobileNetV2"
   ]
  },
  {
   "cell_type": "code",
   "execution_count": 52,
   "metadata": {},
   "outputs": [
    {
     "data": {
      "image/png": "[encoded data removed]",
      "text/plain": [
       "<Figure size 432x288 with 1 Axes>"
      ]
     },
     "metadata": {
      "needs_background": "light"
     },
     "output_type": "display_data"
    }
   ],
   "source": [
    "plt.plot(history4.history['loss'])\n",
    "plt.plot(history4.history['val_loss'])\n",
    "plt.title(\"Model's Training & Validation loss across epochs\")\n",
    "plt.ylabel('Loss')\n",
    "plt.xlabel('Epochs')\n",
    "plt.legend(['Train', 'Validation'], loc='upper right')\n",
    "plt.show()"
   ]
  },
  {
   "cell_type": "code",
   "execution_count": 53,
   "metadata": {},
   "outputs": [
    {
     "data": {
      "image/png": "[encoded data removed]",
      "text/plain": [
       "<Figure size 432x288 with 1 Axes>"
      ]
     },
     "metadata": {
      "needs_background": "light"
     },
     "output_type": "display_data"
    }
   ],
   "source": [
    "plt.plot(history4.history['accuracy'])\n",
    "plt.plot(history4.history['val_accuracy'])\n",
    "plt.title(\"Model's Training & Validation accuracy across epochs\")\n",
    "plt.ylabel('Loss')\n",
    "plt.xlabel('Epochs')\n",
    "plt.legend(['Train', 'Validation'], loc='lower right')\n",
    "plt.show()"
   ]
  },
  {
   "cell_type": "code",
   "execution_count": 54,
   "metadata": {},
   "outputs": [
    {
     "name": "stdout",
     "output_type": "stream",
     "text": [
      "50/50 [==============================] - 1s 13ms/step - loss: 0.3411 - accuracy: 0.8600\n",
      "The loss of the evaluation : 34.10859405994415\n",
      "The accuracy of the evaluation : 86.00000143051147\n"
     ]
    }
   ],
   "source": [
    "eval_score = model4.evaluate(X_scaled_test,y_test)\n",
    "print('The loss of the evaluation :'+' '+str(eval_score[0]*100))\n",
    "print('The accuracy of the evaluation :'+' '+str(eval_score[1]*100))"
   ]
  },
  {
   "cell_type": "code",
   "execution_count": 55,
   "metadata": {},
   "outputs": [
    {
     "name": "stderr",
     "output_type": "stream",
     "text": [
      "/opt/conda/lib/python3.7/site-packages/tensorflow/python/keras/engine/sequential.py:450: UserWarning: `model.predict_classes()` is deprecated and will be removed after 2021-01-01. Please use instead:* `np.argmax(model.predict(x), axis=-1)`,   if your model does multi-class classification   (e.g. if it uses a `softmax` last-layer activation).* `(model.predict(x) > 0.5).astype(\"int32\")`,   if your model does binary classification   (e.g. if it uses a `sigmoid` last-layer activation).\n",
      "  warnings.warn('`model.predict_classes()` is deprecated and '\n"
     ]
    },
    {
     "data": {
      "text/plain": [
       "array([[0],\n",
       "       [0],\n",
       "       [0],\n",
       "       ...,\n",
       "       [1],\n",
       "       [0],\n",
       "       [0]], dtype=int32)"
      ]
     },
     "execution_count": 55,
     "metadata": {},
     "output_type": "execute_result"
    }
   ],
   "source": [
    "\n",
    "from sklearn.metrics import classification_report , confusion_matrix\n",
    "y_pred = model4.predict_classes(X_scaled_test)\n",
    "y_pred\n"
   ]
  },
  {
   "cell_type": "code",
   "execution_count": 56,
   "metadata": {},
   "outputs": [
    {
     "data": {
      "text/plain": [
       "{'benign': {'precision': 0.9156193895870736,\n",
       "  'recall': 0.8869565217391304,\n",
       "  'f1-score': 0.901060070671378,\n",
       "  'support': 1150},\n",
       " 'malignant': {'precision': 0.7325102880658436,\n",
       "  'recall': 0.7911111111111111,\n",
       "  'f1-score': 0.7606837606837606,\n",
       "  'support': 450},\n",
       " 'accuracy': 0.86,\n",
       " 'macro avg': {'precision': 0.8240648388264586,\n",
       "  'recall': 0.8390338164251208,\n",
       "  'f1-score': 0.8308719156775694,\n",
       "  'support': 1600},\n",
       " 'weighted avg': {'precision': 0.8641199547842275,\n",
       "  'recall': 0.86,\n",
       "  'f1-score': 0.8615792334873607,\n",
       "  'support': 1600}}"
      ]
     },
     "execution_count": 56,
     "metadata": {},
     "output_type": "execute_result"
    }
   ],
   "source": [
    "target_name = ['benign','malignant']\n",
    "classification_report(y_true=y_test , y_pred=y_pred , output_dict=True , target_names= target_name )"
   ]
  },
  {
   "cell_type": "code",
   "execution_count": 57,
   "metadata": {},
   "outputs": [
    {
     "data": {
      "text/plain": [
       "Text(69.0, 0.5, 'True Label')"
      ]
     },
     "execution_count": 57,
     "metadata": {},
     "output_type": "execute_result"
    },
    {
     "data": {
      "image/png": "[encoded data removed]",
      "text/plain": [
       "<Figure size 720x360 with 2 Axes>"
      ]
     },
     "metadata": {
      "needs_background": "light"
     },
     "output_type": "display_data"
    }
   ],
   "source": [
    "plt.figure(figsize=(10,5))\n",
    "sns.heatmap(confusion_matrix(y_true=y_test, y_pred=y_pred),annot=True , fmt='2d')\n",
    "plt.title('Confusion Metrix',fontsize=30)\n",
    "plt.xlabel('Prediction Label',fontsize=20)\n",
    "plt.ylabel('True Label',fontsize=20)"
   ]
  }
 ],
 "metadata": {
  "kernelspec": {
   "display_name": "Python 3",
   "language": "python",
   "name": "python3"
  },
  "language_info": {
   "codemirror_mode": {
    "name": "ipython",
    "version": 3
   },
   "file_extension": ".py",
   "mimetype": "text/x-python",
   "name": "python",
   "nbconvert_exporter": "python",
   "pygments_lexer": "ipython3",
   "version": "3.8.3"
  }
 },
 "nbformat": 4,
 "nbformat_minor": 4
}
